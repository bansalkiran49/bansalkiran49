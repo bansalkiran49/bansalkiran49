{
  "nbformat": 4,
  "nbformat_minor": 0,
  "metadata": {
    "colab": {
      "provenance": [],
      "toc_visible": true
    },
    "kernelspec": {
      "display_name": "Python 3",
      "language": "python",
      "name": "python3"
    },
    "language_info": {
      "codemirror_mode": {
        "name": "ipython",
        "version": 3
      },
      "file_extension": ".py",
      "mimetype": "text/x-python",
      "name": "python",
      "nbconvert_exporter": "python",
      "pygments_lexer": "ipython3",
      "version": "3.7.3"
    }
  },
  "cells": [
    {
      "cell_type": "markdown",
      "metadata": {
        "id": "rkMZMNYtXf1Z"
      },
      "source": [
        "<center><img src=\"https://github.com/insaid2018/Term-1/blob/master/Images/INSAID_Full%20Logo.png?raw=true\" width=\"240\" height=\"110\" /></center>"
      ]
    },
    {
      "cell_type": "markdown",
      "metadata": {
        "id": "EjGXRo0Aibsz"
      },
      "source": [
        "# <center>**Keras Introduction**</center>\n",
        "\n",
        "<center><img src=\"https://upload.wikimedia.org/wikipedia/commons/1/11/TensorFlowLogo.svg\" width=\"300\" height=\"200\" /></center>"
      ]
    },
    {
      "cell_type": "markdown",
      "metadata": {
        "id": "9QKk6hBzXf1d"
      },
      "source": [
        "---\n",
        "### **Table of Content**\n",
        "---\n",
        "\n",
        "\n",
        "1. [**Keras - Brief Introduction**](#section7)<br>\n",
        "    - 1.1 [**Why Keras?**](#section701)<br>\n",
        "    \n",
        "    - 1.2 [**Keras vs TensorFlow**](#section702)<br>\n",
        "2. [**Brief Overview of Neural Networks**](#section8)<br>\n"
      ]
    },
    {
      "cell_type": "markdown",
      "metadata": {
        "id": "y1QhtwqKG6hr"
      },
      "source": [
        "**Note**: This notebook is intended to be run on Colab. Parts of it may not work properly if opened directly via jupyter notebook."
      ]
    },
    {
      "cell_type": "markdown",
      "metadata": {
        "collapsed": true,
        "id": "mbhTTyunXf1h"
      },
      "source": [
        "<a id=section1></a>"
      ]
    },
    {
      "cell_type": "markdown",
      "metadata": {
        "id": "-g6MiieeXf49"
      },
      "source": [
        "<a name = section1></a>\n",
        "\n",
        "---\n",
        "# **1. Keras - Brief Introduction**\n",
        "---"
      ]
    },
    {
      "cell_type": "markdown",
      "metadata": {
        "id": "LRHitC1TXf4-"
      },
      "source": [
        "- **Keras** is a **high-level library** that’s built on top of Theano or TensorFlow.\n",
        "\n",
        "  - It provides a **scikit-learn type API** (written in Python) for **building Neural Networks**.\n",
        "\n",
        "  - Developers can use Keras to **quickly build neural networks** without worrying about the mathematical aspects of tensor algebra, numerical techniques, and optimisation methods.\n",
        "\n",
        "- The key idea behind the development of Keras is to **facilitate experimentations by fast prototyping**.\n",
        "\n",
        "  - The ability to go from an idea to result with the least possible delay is the key to good research."
      ]
    },
    {
      "cell_type": "markdown",
      "metadata": {
        "id": "C0cLTMUyXf4-"
      },
      "source": [
        "<a id=section701></a>"
      ]
    },
    {
      "cell_type": "markdown",
      "metadata": {
        "id": "MDZj_ekWXf4_"
      },
      "source": [
        "<a name = section101></a>\n",
        "\n",
        "### **1.1 Why Keras?**"
      ]
    },
    {
      "cell_type": "markdown",
      "metadata": {
        "id": "H50GC3Z0Xf5A"
      },
      "source": [
        "- Keras is a **high-level interface** and uses **Theano** or **Tensorflow** for its backend.\n",
        "\n",
        "- It **runs** smoothly on **both CPU** and **GPU**.\n",
        "\n",
        "- Keras **supports** almost **all** the **models** of a neural network – **fully connected**, **convolutional**, **pooling**, **recurrent**, **embedding**, etc.\n",
        "\n",
        "  - Furthermore, these models can be **combined** to **build** more **complex** models.\n",
        "\n",
        "- Keras, being **modular** in nature,  is incredibly **expressive**, **flexible**, and **apt** for innovative research.\n",
        "\n",
        "- Keras is a completely **Python-based** framework, which makes it **easy** to **debug** and **explore**.\n",
        "\n",
        "<center><img src=\"https://raw.githubusercontent.com/insaid2018/DeepLearning/master/image/dl_frameworks_power_scores.png\" width=\"700\" height=\"450\" /></center>\n",
        "\n",
        "<br> \n",
        "<b><center>Source - Keras documentation</center><b>"
      ]
    },
    {
      "cell_type": "markdown",
      "metadata": {
        "id": "sWnS8PtNXf5B"
      },
      "source": [
        "<a id=section702></a>"
      ]
    },
    {
      "cell_type": "markdown",
      "metadata": {
        "id": "ZUFIFG3_Xf5C"
      },
      "source": [
        "<a name = section102></a>\n",
        "\n",
        "### **1.2 Keras vs TensorFlow**"
      ]
    },
    {
      "cell_type": "markdown",
      "metadata": {
        "id": "NCo3snQnXf5C"
      },
      "source": [
        "<center><img src=\"https://raw.githubusercontent.com/insaid2018/DeepLearning/master/image/keras-tensorflow-logo.jpg\" width=\"500\" height=\"200\" /></center>\n",
        "<br> \n",
        "\n",
        "- Keras is a neural networks library written in Python that is **high-level** in nature – which makes it extremely **simple** and **intuitive** to use.\n",
        "\n",
        "  - It works as a **wrapper** to **low-level** libraries like **TensorFlow** or **Theano**.\n",
        "  \n",
        "  - In that sense, the **comparison doesn’t make** much **sense** because **Keras** itself **uses TensorFlow** for the **back-end**.\n",
        "\n",
        "  - But, if we must, we must.\n",
        "\n",
        "<br> \n",
        "- Keras is very **simple** to **understand** and **implement** – it allows you to use TensorFlow in the backend – eliminating the need to learn it.\n",
        "\n",
        "- Keras was developed with the objective of allowing people to **write** their own **scripts without** having to **learn** the **backend** in detail.\n",
        "\n",
        "- However **Keras won’t work** if you need to make **low-level changes** to your model.\n",
        "\n",
        "  - For that, you need to **alter** the **TensorFlow code**.\n",
        "\n",
        "- So, if you’re looking to **fiddle around** with Deep Neural Networks or just want to **build** a **prototype** – **Keras** is your calling.\n",
        "\n",
        "  - However, if you’re the one that likes to **dive deep** and get **control** of the **low-level functionalities**, you should spend some time exploring **TensorFlow**."
      ]
    },
    {
      "cell_type": "markdown",
      "metadata": {
        "id": "aWsT24hMwOx2"
      },
      "source": [
        "#### **Important**\n",
        "\n",
        "- Keras is now the **official high-level API** of **TensorFlow** for quick and easy model design and training.\n",
        "\n",
        "- The **`tf.keras`** submodule was introduced in TensorFlow **`v1.10.0`**, integrating Keras directly within the TensorFlow package itself.\n",
        "\n",
        "- You don't need to install Keras as a separate module in your system to use it.\n",
        "\n",
        "  - When you install TensorFlow, you can import Keras from it: **`from tensoflow import keras`**\n",
        "\n",
        "- Keras **`v2.3.0`** is the the **last major release** to support backends other than TensorFlow (i.e., **Theano**, **CNTK**, etc.)\n",
        "\n",
        "- Deep learning practitioners should start moving to **TensorFlow 2.0** and the **`tf.keras`** package."
      ]
    },
    {
      "cell_type": "markdown",
      "metadata": {
        "id": "pw4ReSJPXf5E"
      },
      "source": [
        "<a name = section2></a>\n",
        "\n",
        "\n",
        "----\n",
        "## **2. Brief Overview of Neural Networks**\n",
        "----"
      ]
    },
    {
      "cell_type": "markdown",
      "metadata": {
        "id": "bINyUVceXf5F"
      },
      "source": [
        "- Neural Networks can be described as a **mathematical function** (for instance $f(x)=x^2$) that **maps** a given **input** to a desired **output**.\n",
        "\n",
        "- They consist of the following components:\n",
        "\n",
        "  - An **input layer**, $x$\n",
        "\n",
        "  - An **arbitrary** amount of **hidden layers**\n",
        "\n",
        "  - An **output layer**, $ŷ$\n",
        "\n",
        "  - A set of **weights** and **biases** between each layer, $W$ and $b$\n",
        "\n",
        "  - A choice of **activation function** for each hidden layer"
      ]
    },
    {
      "cell_type": "markdown",
      "metadata": {
        "id": "gn5QsYWJwBNQ"
      },
      "source": [
        "- The diagram below shows the architecture of a **2-layer Neural Network** \n",
        "\n",
        "  **Note**: The **input layer** is typically **excluded** when counting the **number of layers** in a Neural Network)\n",
        "\n",
        "<br> \n",
        "<center><img src=\"https://raw.githubusercontent.com/insaid2018/DeepLearning/master/image/1_sX6T0Y4aa3ARh7IBS_sdqw.png\" width=\"500\" height=\"450\" /></center>"
      ]
    },
    {
      "cell_type": "markdown",
      "metadata": {
        "id": "0N7rb-aXwCs3"
      },
      "source": [
        "- The **middle / hidden layer** in the network is also called **dense** if **each** of its **neurons** is **connected** to **every neuron** in the **previous** layer.\n",
        "\n",
        "- The **right values** for the **weights** and **biases determine** the **strength** of the **predictions**.\n",
        "\n",
        "  - The process of **fine-tuning** the **weights** and **biases** from the input data is known as **training** the neural network.\n",
        "\n",
        "- **Each iteration** of the **training** process consists of the following **steps**:\n",
        "\n",
        "  - **Calculating** the **predicted** output $ŷ$, known as **feedforward** or **forward propagation**.\n",
        "\n",
        "  - **Updating** the **weights** and **biases**, known as **backpropagation**.\n",
        "\n",
        "- If this seems too much to wrap your head around, don't worry. We will cover neural networks in detail in further sessions. "
      ]
    }
  ]
}